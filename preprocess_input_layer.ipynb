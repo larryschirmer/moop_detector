{
 "cells": [
  {
   "cell_type": "code",
   "execution_count": 1,
   "metadata": {},
   "outputs": [],
   "source": [
    "def get_text(file_name): return open(file_name, 'r').read()"
   ]
  },
  {
   "cell_type": "code",
   "execution_count": 2,
   "metadata": {},
   "outputs": [],
   "source": [
    "from os import listdir\n",
    "from os.path import join\n",
    "\n",
    "dataset_dir = \"data/aclImdb\"\n",
    "\n",
    "split_names = [\"train\", \"test\"]\n",
    "group_names = [\"pos\", \"neg\"]\n",
    "column_names = [\"text\", \"label\"]\n",
    "\n",
    "datasets = [{\"text\": [], \"label\": []}, {\"text\": [], \"label\": []}]\n",
    "\n",
    "\n",
    "# loop over each dataset\n",
    "for split in split_names:\n",
    "    ds_idx = 0 if split == \"train\" else 1\n",
    "\n",
    "    # loop over each group\n",
    "    for group in group_names:\n",
    "        label = 1 if group == \"pos\" else 0\n",
    "        onlyfiles = [f for f in listdir(join(dataset_dir, split, group))]\n",
    "\n",
    "        # loop over each file in the group\n",
    "        for file_name in onlyfiles:\n",
    "            # extract the text from the file\n",
    "            text = get_text(join(dataset_dir, split, group, file_name))\n",
    "\n",
    "            # add the text and label to the dataframe\n",
    "            datasets[ds_idx][\"text\"].append(text)\n",
    "            datasets[ds_idx][\"label\"].append(label)\n",
    "\n",
    "[ds_train, ds_test] = datasets"
   ]
  },
  {
   "cell_type": "code",
   "execution_count": 3,
   "metadata": {},
   "outputs": [],
   "source": [
    "x_train = ds_train[\"text\"]\n",
    "x_test = ds_test[\"text\"]"
   ]
  },
  {
   "cell_type": "code",
   "execution_count": 4,
   "metadata": {},
   "outputs": [
    {
     "name": "stderr",
     "output_type": "stream",
     "text": [
      "2021-11-11 15:48:29.148466: E tensorflow/stream_executor/cuda/cuda_driver.cc:271] failed call to cuInit: CUDA_ERROR_UNKNOWN: unknown error\n",
      "2021-11-11 15:48:29.148507: I tensorflow/stream_executor/cuda/cuda_diagnostics.cc:169] retrieving CUDA diagnostic information for host: ba1ad939ca95\n",
      "2021-11-11 15:48:29.148518: I tensorflow/stream_executor/cuda/cuda_diagnostics.cc:176] hostname: ba1ad939ca95\n",
      "2021-11-11 15:48:29.148630: I tensorflow/stream_executor/cuda/cuda_diagnostics.cc:200] libcuda reported version is: 470.82.0\n",
      "2021-11-11 15:48:29.148652: I tensorflow/stream_executor/cuda/cuda_diagnostics.cc:204] kernel reported version is: 470.82.0\n",
      "2021-11-11 15:48:29.148660: I tensorflow/stream_executor/cuda/cuda_diagnostics.cc:310] kernel version seems to match DSO: 470.82.0\n",
      "2021-11-11 15:48:29.148965: I tensorflow/core/platform/cpu_feature_guard.cc:151] This TensorFlow binary is optimized with oneAPI Deep Neural Network Library (oneDNN) to use the following CPU instructions in performance-critical operations:  AVX2 FMA\n",
      "To enable them in other operations, rebuild TensorFlow with the appropriate compiler flags.\n"
     ]
    },
    {
     "data": {
      "text/plain": [
       "array([[   2,    1, 1151,   70,    6,    2, 2375,    0,    0,    0],\n",
       "       [   2, 6104,   14,  794,    0,    0,    0,    0,    0,    0]])"
      ]
     },
     "execution_count": 4,
     "metadata": {},
     "output_type": "execute_result"
    }
   ],
   "source": [
    "import tensorflow as tf\n",
    "\n",
    "max_len = 10  # Sequence length to pad the outputs to.\n",
    "max_features = 10000  # Number of unique words in the vocabulary.\n",
    "\n",
    "# Create the layer, passing the vocab directly. You can also pass the\n",
    "# vocabulary arg a path to a file containing one vocabulary word per\n",
    "# line.\n",
    "vectorize_layer = tf.keras.layers.TextVectorization(\n",
    "    max_tokens=max_features,\n",
    "    output_mode='int',\n",
    "    output_sequence_length=max_len)\n",
    "\n",
    "vectorize_layer.adapt([*x_train, *x_test])\n",
    "\n",
    "# Because we've passed the vocabulary directly, we don't need to adapt\n",
    "# the layer - the vocabulary is already set. The vocabulary contains the\n",
    "# padding token ('') and OOV token ('[UNK]') as well as the passed tokens.\n",
    "len(vectorize_layer.get_vocabulary())\n",
    "\n",
    "\n",
    "model = tf.keras.models.Sequential()\n",
    "model.add(tf.keras.Input(shape=(1,), dtype=tf.string))\n",
    "model.add(vectorize_layer)\n",
    "input_data = [[\"the waiter showed me to the table\"], [\"the meal was fantastic\"]]\n",
    "model.predict(input_data)"
   ]
  },
  {
   "cell_type": "code",
   "execution_count": null,
   "metadata": {},
   "outputs": [],
   "source": []
  }
 ],
 "metadata": {
  "interpreter": {
   "hash": "554c77c23bcc03f2a7ddcf738ffc146e6a275a0cbc05201be870770c76138d7d"
  },
  "kernelspec": {
   "display_name": "Python 3.9.8 64-bit ('venv': venv)",
   "language": "python",
   "name": "python3"
  },
  "language_info": {
   "codemirror_mode": {
    "name": "ipython",
    "version": 3
   },
   "file_extension": ".py",
   "mimetype": "text/x-python",
   "name": "python",
   "nbconvert_exporter": "python",
   "pygments_lexer": "ipython3",
   "version": "3.9.8"
  },
  "orig_nbformat": 4
 },
 "nbformat": 4,
 "nbformat_minor": 2
}
