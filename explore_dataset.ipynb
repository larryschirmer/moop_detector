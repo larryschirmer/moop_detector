{
 "cells": [
  {
   "cell_type": "markdown",
   "metadata": {},
   "source": [
    "# Exploring the ACL IMDB Dataset"
   ]
  },
  {
   "cell_type": "markdown",
   "metadata": {},
   "source": [
    "This dataset was downloaded from [stanford.edu](https://ai.stanford.edu/~amaas/data/sentiment/)\n",
    "\n",
    "It includes an even split between training and test datasets (25,000) and an even split between categories (positive and negative, 12,500)\n",
    "\n",
    "```\n",
    ".\n",
    "└── aclImdb\n",
    "    ├── test\n",
    "    │   ├── neg\n",
    "    │   └── pos\n",
    "    ├── train\n",
    "    │   ├── neg\n",
    "    │   ├── pos\n",
    "    │   └── unsup\n",
    "    ├── imdb.vocab\n",
    "    └── README\n",
    "```"
   ]
  },
  {
   "cell_type": "markdown",
   "metadata": {},
   "source": [
    "From the README included with the dataset, each of the files under the \"neg\" and \"pos\" directories is named with the followin convention:\n",
    "\n",
    "```\n",
    "<index>_<review rating 1-10>.txt\n",
    "```\n",
    "\n",
    "Each of the files includes the original text without any transformations (caseing, stemming ...)"
   ]
  },
  {
   "cell_type": "code",
   "execution_count": 1,
   "metadata": {},
   "outputs": [
    {
     "name": "stdout",
     "output_type": "stream",
     "text": [
      "Story of a man who has unnatural feelings for a pig. Starts out with a opening scene that is a terrific example of absurd comedy. A formal orchestra audience is turned into an insane, violent mob by the crazy chantings of it's singers. Unfortunately it stays absurd the WHOLE time with no general narrative eventually making it just too off putting. Even those from the era should be turned off. The cryptic dialogue would make Shakespeare seem easy to a third grader. On a technical level it's better than you might think with some good cinematography by future great Vilmos Zsigmond. Future stars Sally Kirkland and Frederic Forrest can be seen briefly.\n"
     ]
    }
   ],
   "source": [
    "import pandas as pd\n",
    "\n",
    "file_name = \"data/aclImdb/train/neg/0_3.txt\"\n",
    "\n",
    "with open(file_name, 'r') as f:\n",
    "    line = f.readline()\n",
    "\n",
    "print(line)\n"
   ]
  },
  {
   "cell_type": "code",
   "execution_count": 10,
   "metadata": {},
   "outputs": [],
   "source": [
    "get_text = lambda file_name: open(file_name, 'r').read()"
   ]
  },
  {
   "cell_type": "code",
   "execution_count": 26,
   "metadata": {},
   "outputs": [
    {
     "name": "stdout",
     "output_type": "stream",
     "text": [
      "                                                text label\n",
      "0  Good film. Tells a boyish fantasy story, telli...     1\n",
      "1  Wow this was a great Italian \"ZOMBIE\" movie by...     1\n",
      "2  It's just such a joy to have watched this intr...     1\n",
      "3  The arrival of an world famous conductor sets ...     1\n",
      "4  Not on the same level as Ring (or Ring 2) but ...     1\n",
      "                                                text label\n",
      "0  A lot of my childhood was spent lying in front...     1\n",
      "1  After five years in prison, Tony le Stéphanois...     1\n",
      "2  Feisty Dianna Jackson (a winningly spunky perf...     1\n",
      "3  I thought I'd witnessed every wrinkle the crim...     1\n",
      "4  (Some Spoilers) Facing a mid-life crisis and f...     1\n"
     ]
    }
   ],
   "source": [
    "from os import listdir\n",
    "from os.path import join\n",
    "\n",
    "dataset_dir = \"data/aclImdb\"\n",
    "\n",
    "split_names = [\"train\", \"test\"]\n",
    "group_names = [\"pos\", \"neg\"]\n",
    "column_names = [\"text\", \"label\"]\n",
    "\n",
    "dataframes = [pd.DataFrame(\n",
    "    columns=column_names), pd.DataFrame(columns=column_names)]\n",
    "\n",
    "for split in split_names:\n",
    "    df_idx = 0 if split == \"train\" else 1\n",
    "\n",
    "    for group in group_names:\n",
    "        label = 1 if group == \"pos\" else 0\n",
    "        onlyfiles = [f for f in listdir(join(dataset_dir, split, group))]\n",
    "\n",
    "        for file_name in onlyfiles:\n",
    "            text = get_text(join(dataset_dir, split, group, file_name))\n",
    "\n",
    "            dataframes[df_idx] = dataframes[df_idx].append(\n",
    "                {\"text\": text, \"label\": label}, ignore_index=True)\n",
    "\n",
    "[df_train, df_test] = dataframes\n",
    "\n",
    "print(df_train.head())\n",
    "print(df_test.head())\n"
   ]
  },
  {
   "cell_type": "code",
   "execution_count": 36,
   "metadata": {},
   "outputs": [
    {
     "name": "stdout",
     "output_type": "stream",
     "text": [
      "1    12500\n",
      "0    12500\n",
      "Name: label, dtype: int64\n",
      "1    12500\n",
      "0    12500\n",
      "Name: label, dtype: int64\n"
     ]
    }
   ],
   "source": [
    "print(df_train.label.value_counts())\n",
    "print(df_test.label.value_counts())"
   ]
  },
  {
   "cell_type": "code",
   "execution_count": 29,
   "metadata": {},
   "outputs": [],
   "source": [
    "vocab_file = \"data/aclImdb/imdb.vocab\"\n",
    "label_to_id = {}\n",
    "id_to_label = {}\n",
    "\n",
    "with open(vocab_file, 'r') as f:\n",
    "    for (idx, line) in enumerate(f):\n",
    "        line_trim = line.rstrip()\n",
    "        label_to_id[line_trim] = idx\n",
    "        id_to_label[idx] = line_trim"
   ]
  },
  {
   "cell_type": "code",
   "execution_count": 37,
   "metadata": {},
   "outputs": [
    {
     "data": {
      "text/plain": [
       "89527"
      ]
     },
     "execution_count": 37,
     "metadata": {},
     "output_type": "execute_result"
    }
   ],
   "source": [
    "len(label_to_id)"
   ]
  },
  {
   "cell_type": "code",
   "execution_count": null,
   "metadata": {},
   "outputs": [],
   "source": []
  }
 ],
 "metadata": {
  "interpreter": {
   "hash": "554c77c23bcc03f2a7ddcf738ffc146e6a275a0cbc05201be870770c76138d7d"
  },
  "kernelspec": {
   "display_name": "Python 3.9.8 64-bit ('venv': venv)",
   "language": "python",
   "name": "python3"
  },
  "language_info": {
   "codemirror_mode": {
    "name": "ipython",
    "version": 3
   },
   "file_extension": ".py",
   "mimetype": "text/x-python",
   "name": "python",
   "nbconvert_exporter": "python",
   "pygments_lexer": "ipython3",
   "version": "3.9.8"
  },
  "orig_nbformat": 4
 },
 "nbformat": 4,
 "nbformat_minor": 2
}
