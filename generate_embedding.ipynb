{
 "cells": [
  {
   "cell_type": "code",
   "execution_count": 3,
   "metadata": {},
   "outputs": [],
   "source": [
    "import codecs\n",
    "import re\n",
    "from os import listdir\n",
    "from os.path import join\n",
    "\n",
    "import tensorflow as tf\n",
    "from tensorflow.keras import Sequential\n",
    "from tensorflow.keras.layers import Embedding, Dense, Flatten\n",
    "from tensorflow.keras.preprocessing.sequence import pad_sequences\n",
    "from tensorflow.keras.optimizers import Adam\n",
    "from tensorflow.keras.callbacks import EarlyStopping, ModelCheckpoint\n",
    "import keras_tuner as kt\n",
    "\n",
    "import matplotlib.pyplot as plt\n",
    "%matplotlib inline "
   ]
  },
  {
   "cell_type": "code",
   "execution_count": 4,
   "metadata": {},
   "outputs": [],
   "source": [
    "# listing 3.4 - Deep Learning for Natural Language Processing\n",
    "\n",
    "def save_embedding(outputFile, weights, vocabulary):\n",
    "    rev = {v: k for k, v in iter(vocabulary.items())}\n",
    "    with codecs.open(outputFile, \"w\") as f:\n",
    "        f.write(str(len(vocabulary)) + \" \" + str(weights.shape[1]) + \"\\n\")\n",
    "        for index in sorted(iter(rev.keys())):\n",
    "            word = rev[index]\n",
    "            f.write(word + \" \")\n",
    "            for i in list(range(len(weights[index]))):\n",
    "                f.write(str(weights[index][i]) + \" \")\n",
    "            f.write(\"\\n\")\n"
   ]
  },
  {
   "cell_type": "code",
   "execution_count": 6,
   "metadata": {},
   "outputs": [],
   "source": [
    "vocab_file = \"data/aclImdb/imdb.vocab\"\n",
    "label_to_id = {'<unk>': 0, '<pad>': 1}\n",
    "\n",
    "with open(vocab_file, 'r') as f:\n",
    "    for (idx, line) in enumerate(f):\n",
    "        line_trim = line.rstrip()\n",
    "        label_to_id[line_trim] = idx + 2 # add 2 to account for <unk> and <pad>\n"
   ]
  },
  {
   "cell_type": "code",
   "execution_count": 7,
   "metadata": {},
   "outputs": [],
   "source": [
    "def get_text(file_name): return open(file_name, 'r').read()\n"
   ]
  },
  {
   "cell_type": "code",
   "execution_count": 8,
   "metadata": {},
   "outputs": [],
   "source": [
    "dataset_dir = \"data/aclImdb\"\n",
    "\n",
    "split_names = [\"train\", \"test\"]\n",
    "group_names = [\"pos\", \"neg\"]\n",
    "column_names = [\"text\", \"label\"]\n",
    "\n",
    "datasets = [{\"text\": [], \"label\": []}, {\"text\": [], \"label\": []}]\n",
    "\n",
    "\n",
    "# loop over each dataset\n",
    "for split in split_names:\n",
    "    ds_idx = 0 if split == \"train\" else 1\n",
    "\n",
    "    # loop over each group\n",
    "    for group in group_names:\n",
    "        label = 1 if group == \"pos\" else 0\n",
    "        onlyfiles = [f for f in listdir(join(dataset_dir, split, group))]\n",
    "\n",
    "        # loop over each file in the group\n",
    "        for file_name in onlyfiles:\n",
    "            # extract the text from the file\n",
    "            text = get_text(join(dataset_dir, split, group, file_name))\n",
    "\n",
    "            # clean the text\n",
    "            text = re.sub(\n",
    "                r'[!\"#\\$%&\\(\\)\\*\\+,-\\.\\/:;<=>\\?@\\[\\\\\\]\\^_`{\\|}~\\t\\n|\\'s]+', '', text)\n",
    "            text = [label_to_id[word]\n",
    "                    if word in label_to_id else 0 for word in text.lower().split(' ')]\n",
    "\n",
    "            # add the text and label to the dataframe\n",
    "            datasets[ds_idx][\"text\"].append(text)\n",
    "            datasets[ds_idx][\"label\"].append(label)\n",
    "\n",
    "[ds_train, ds_test] = datasets\n"
   ]
  },
  {
   "cell_type": "code",
   "execution_count": 9,
   "metadata": {},
   "outputs": [
    {
     "name": "stderr",
     "output_type": "stream",
     "text": [
      "2021-11-11 01:49:48.075590: I tensorflow/stream_executor/cuda/cuda_gpu_executor.cc:939] successful NUMA node read from SysFS had negative value (-1), but there must be at least one NUMA node, so returning NUMA node zero\n",
      "2021-11-11 01:49:48.081375: I tensorflow/stream_executor/cuda/cuda_gpu_executor.cc:939] successful NUMA node read from SysFS had negative value (-1), but there must be at least one NUMA node, so returning NUMA node zero\n",
      "2021-11-11 01:49:48.081696: I tensorflow/stream_executor/cuda/cuda_gpu_executor.cc:939] successful NUMA node read from SysFS had negative value (-1), but there must be at least one NUMA node, so returning NUMA node zero\n",
      "2021-11-11 01:49:48.082391: I tensorflow/core/platform/cpu_feature_guard.cc:151] This TensorFlow binary is optimized with oneAPI Deep Neural Network Library (oneDNN) to use the following CPU instructions in performance-critical operations:  AVX2 FMA\n",
      "To enable them in other operations, rebuild TensorFlow with the appropriate compiler flags.\n",
      "2021-11-11 01:49:48.083172: I tensorflow/stream_executor/cuda/cuda_gpu_executor.cc:939] successful NUMA node read from SysFS had negative value (-1), but there must be at least one NUMA node, so returning NUMA node zero\n",
      "2021-11-11 01:49:48.083551: I tensorflow/stream_executor/cuda/cuda_gpu_executor.cc:939] successful NUMA node read from SysFS had negative value (-1), but there must be at least one NUMA node, so returning NUMA node zero\n",
      "2021-11-11 01:49:48.083956: I tensorflow/stream_executor/cuda/cuda_gpu_executor.cc:939] successful NUMA node read from SysFS had negative value (-1), but there must be at least one NUMA node, so returning NUMA node zero\n",
      "2021-11-11 01:49:48.396641: I tensorflow/stream_executor/cuda/cuda_gpu_executor.cc:939] successful NUMA node read from SysFS had negative value (-1), but there must be at least one NUMA node, so returning NUMA node zero\n",
      "2021-11-11 01:49:48.396974: I tensorflow/stream_executor/cuda/cuda_gpu_executor.cc:939] successful NUMA node read from SysFS had negative value (-1), but there must be at least one NUMA node, so returning NUMA node zero\n",
      "2021-11-11 01:49:48.397349: I tensorflow/stream_executor/cuda/cuda_gpu_executor.cc:939] successful NUMA node read from SysFS had negative value (-1), but there must be at least one NUMA node, so returning NUMA node zero\n",
      "2021-11-11 01:49:48.397626: I tensorflow/core/common_runtime/gpu/gpu_device.cc:1525] Created device /job:localhost/replica:0/task:0/device:GPU:0 with 9022 MB memory:  -> device: 0, name: NVIDIA GeForce RTX 3060, pci bus id: 0000:2b:00.0, compute capability: 8.6\n"
     ]
    }
   ],
   "source": [
    "max_len = 50\n",
    "\n",
    "x_train = pad_sequences(ds_train[\"text\"], maxlen=max_len, padding='post', value=1)\n",
    "x_train = tf.convert_to_tensor(x_train)\n",
    "y_train = tf.convert_to_tensor(ds_train[\"label\"])\n",
    "\n",
    "x_test = pad_sequences(ds_test[\"text\"], maxlen=max_len, padding='post', value=1)\n",
    "x_test = tf.convert_to_tensor(x_test)\n",
    "y_test = tf.convert_to_tensor(ds_test[\"label\"])"
   ]
  },
  {
   "cell_type": "code",
   "execution_count": 10,
   "metadata": {},
   "outputs": [],
   "source": [
    "def model_fn(hp):\n",
    "    global embedding\n",
    "\n",
    "    hp_embed = hp.Int('embed', min_value=50, max_value=200, step=34)\n",
    "    hp_lr = hp.Float('lr', min_value=0.00001, max_value=0.0001, step=0.00004)\n",
    "\n",
    "    model = Sequential()\n",
    "    embedding = Embedding(len(label_to_id), hp_embed, input_length=max_len)\n",
    "    model.add(embedding)\n",
    "    model.add(Flatten())\n",
    "    model.add(Dense(1, activation=\"sigmoid\"))\n",
    "    model.compile(loss='binary_crossentropy', optimizer=Adam( learning_rate=hp_lr), metrics=['acc'])\n",
    "\n",
    "    \n",
    "\n",
    "    return model\n"
   ]
  },
  {
   "cell_type": "code",
   "execution_count": 16,
   "metadata": {},
   "outputs": [],
   "source": [
    "tuner = kt.Hyperband(model_fn,\n",
    "                     objective='val_loss',\n",
    "                     max_epochs=100,\n",
    "                     factor=3,\n",
    "                     directory='tuning',\n",
    "                     project_name='sentimate_embedding',\n",
    "                     seed=42)"
   ]
  },
  {
   "cell_type": "code",
   "execution_count": 17,
   "metadata": {},
   "outputs": [
    {
     "name": "stdout",
     "output_type": "stream",
     "text": [
      "Trial 14 Complete [00h 00m 15s]\n",
      "val_loss: 0.6238117218017578\n",
      "\n",
      "Best val_loss So Far: 0.6238117218017578\n",
      "Total elapsed time: 00h 02m 42s\n",
      "INFO:tensorflow:Oracle triggered exit\n",
      "\n",
      "The hyperparameter search is complete.\n",
      "embed 186\n",
      "lr 9e-05.\n",
      "\n"
     ]
    }
   ],
   "source": [
    "stop_early = tf.keras.callbacks.EarlyStopping(monitor='val_loss',  mode='min', patience=10)\n",
    "tuner.search(x_train, y_train, epochs=50, validation_data=(x_test, y_test), callbacks=[stop_early])\n",
    "\n",
    "# Get the optimal hyperparameters\n",
    "best_hps=tuner.get_best_hyperparameters(num_trials=1)[0]\n",
    "\n",
    "print(f\"\"\"\n",
    "The hyperparameter search is complete.\n",
    "embed {best_hps.get('embed')}\n",
    "lr {best_hps.get('lr')}.\n",
    "\"\"\")\n"
   ]
  },
  {
   "cell_type": "code",
   "execution_count": 18,
   "metadata": {},
   "outputs": [
    {
     "name": "stdout",
     "output_type": "stream",
     "text": [
      "Epoch 1/100\n",
      "782/782 [==============================] - ETA: 0s - loss: 0.6891 - acc: 0.5657\n",
      "Epoch 00001: val_loss improved from inf to 0.68218, saving model to best_model.h5\n",
      "782/782 [==============================] - 8s 10ms/step - loss: 0.6891 - acc: 0.5657 - val_loss: 0.6822 - val_acc: 0.6372\n",
      "Epoch 2/100\n",
      "781/782 [============================>.] - ETA: 0s - loss: 0.6477 - acc: 0.7484\n",
      "Epoch 00002: val_loss improved from 0.68218 to 0.62595, saving model to best_model.h5\n",
      "782/782 [==============================] - 8s 10ms/step - loss: 0.6477 - acc: 0.7484 - val_loss: 0.6259 - val_acc: 0.7139\n",
      "Epoch 3/100\n",
      "781/782 [============================>.] - ETA: 0s - loss: 0.5543 - acc: 0.7803\n",
      "Epoch 00003: val_loss improved from 0.62595 to 0.54162, saving model to best_model.h5\n",
      "782/782 [==============================] - 8s 10ms/step - loss: 0.5542 - acc: 0.7804 - val_loss: 0.5416 - val_acc: 0.7528\n",
      "Epoch 4/100\n",
      "781/782 [============================>.] - ETA: 0s - loss: 0.4658 - acc: 0.8136\n",
      "Epoch 00004: val_loss improved from 0.54162 to 0.49143, saving model to best_model.h5\n",
      "782/782 [==============================] - 8s 10ms/step - loss: 0.4659 - acc: 0.8136 - val_loss: 0.4914 - val_acc: 0.7698\n",
      "Epoch 5/100\n",
      "780/782 [============================>.] - ETA: 0s - loss: 0.4047 - acc: 0.8417\n",
      "Epoch 00005: val_loss improved from 0.49143 to 0.46399, saving model to best_model.h5\n",
      "782/782 [==============================] - 8s 10ms/step - loss: 0.4046 - acc: 0.8418 - val_loss: 0.4640 - val_acc: 0.7835\n",
      "Epoch 6/100\n",
      "781/782 [============================>.] - ETA: 0s - loss: 0.3576 - acc: 0.8645\n",
      "Epoch 00006: val_loss improved from 0.46399 to 0.44910, saving model to best_model.h5\n",
      "782/782 [==============================] - 8s 10ms/step - loss: 0.3576 - acc: 0.8645 - val_loss: 0.4491 - val_acc: 0.7898\n",
      "Epoch 7/100\n",
      "781/782 [============================>.] - ETA: 0s - loss: 0.3182 - acc: 0.8856\n",
      "Epoch 00007: val_loss improved from 0.44910 to 0.44155, saving model to best_model.h5\n",
      "782/782 [==============================] - 8s 10ms/step - loss: 0.3182 - acc: 0.8857 - val_loss: 0.4416 - val_acc: 0.7930\n",
      "Epoch 8/100\n",
      "781/782 [============================>.] - ETA: 0s - loss: 0.2828 - acc: 0.9042\n",
      "Epoch 00008: val_loss improved from 0.44155 to 0.43843, saving model to best_model.h5\n",
      "782/782 [==============================] - 8s 10ms/step - loss: 0.2828 - acc: 0.9042 - val_loss: 0.4384 - val_acc: 0.7940\n",
      "Epoch 9/100\n",
      "781/782 [============================>.] - ETA: 0s - loss: 0.2502 - acc: 0.9216\n",
      "Epoch 00009: val_loss improved from 0.43843 to 0.43677, saving model to best_model.h5\n",
      "782/782 [==============================] - 8s 10ms/step - loss: 0.2501 - acc: 0.9216 - val_loss: 0.4368 - val_acc: 0.7936\n",
      "Epoch 10/100\n",
      "781/782 [============================>.] - ETA: 0s - loss: 0.2197 - acc: 0.9377\n",
      "Epoch 00010: val_loss did not improve from 0.43677\n",
      "782/782 [==============================] - 7s 9ms/step - loss: 0.2197 - acc: 0.9377 - val_loss: 0.4383 - val_acc: 0.7930\n",
      "Epoch 11/100\n",
      "781/782 [============================>.] - ETA: 0s - loss: 0.1916 - acc: 0.9524\n",
      "Epoch 00011: val_loss did not improve from 0.43677\n",
      "782/782 [==============================] - 7s 10ms/step - loss: 0.1915 - acc: 0.9524 - val_loss: 0.4406 - val_acc: 0.7930\n",
      "Epoch 12/100\n",
      "781/782 [============================>.] - ETA: 0s - loss: 0.1657 - acc: 0.9632\n",
      "Epoch 00012: val_loss did not improve from 0.43677\n",
      "782/782 [==============================] - 7s 10ms/step - loss: 0.1657 - acc: 0.9632 - val_loss: 0.4441 - val_acc: 0.7925\n",
      "Epoch 13/100\n",
      "781/782 [============================>.] - ETA: 0s - loss: 0.1422 - acc: 0.9719\n",
      "Epoch 00013: val_loss did not improve from 0.43677\n",
      "782/782 [==============================] - 7s 10ms/step - loss: 0.1422 - acc: 0.9719 - val_loss: 0.4490 - val_acc: 0.7905\n",
      "Epoch 14/100\n",
      "781/782 [============================>.] - ETA: 0s - loss: 0.1210 - acc: 0.9794\n",
      "Epoch 00014: val_loss did not improve from 0.43677\n",
      "782/782 [==============================] - 7s 10ms/step - loss: 0.1210 - acc: 0.9794 - val_loss: 0.4544 - val_acc: 0.7897\n",
      "Epoch 00014: early stopping\n"
     ]
    }
   ],
   "source": [
    "es = EarlyStopping(monitor='val_loss', mode='min', verbose=1, patience=5)\n",
    "mc = ModelCheckpoint('best_model.h5', monitor='val_loss',\n",
    "                     mode='min', save_best_only=True, verbose=1)\n",
    "\n",
    "model = tuner.hypermodel.build(best_hps)\n",
    "history = model.fit(x_train, y_train, validation_data=(\n",
    "    x_test, y_test), epochs=100, verbose=1, shuffle=True, callbacks=[es, mc])\n"
   ]
  },
  {
   "cell_type": "code",
   "execution_count": 19,
   "metadata": {},
   "outputs": [
    {
     "name": "stdout",
     "output_type": "stream",
     "text": [
      "Accuracy: 78.97%\n"
     ]
    }
   ],
   "source": [
    "loss, accuracy = model.evaluate(x_test, y_test, verbose=0)\n",
    "print(\"Accuracy: {:.2f}%\".format(accuracy * 100))"
   ]
  },
  {
   "cell_type": "code",
   "execution_count": 20,
   "metadata": {},
   "outputs": [
    {
     "data": {
      "image/png": "[encoded data removed]",
      "text/plain": [
       "<Figure size 432x288 with 1 Axes>"
      ]
     },
     "metadata": {
      "needs_background": "light"
     },
     "output_type": "display_data"
    }
   ],
   "source": [
    "plt.plot(history.history['loss'], label='train')\n",
    "plt.plot(history.history['val_loss'], label='test')\n",
    "plt.legend()\n",
    "plt.show()"
   ]
  },
  {
   "cell_type": "code",
   "execution_count": 21,
   "metadata": {},
   "outputs": [],
   "source": [
    "save_embedding(\"embedding_labeled.txt\", embedding.get_weights()[0], label_to_id)"
   ]
  },
  {
   "cell_type": "code",
   "execution_count": null,
   "metadata": {},
   "outputs": [],
   "source": []
  }
 ],
 "metadata": {
  "interpreter": {
   "hash": "554c77c23bcc03f2a7ddcf738ffc146e6a275a0cbc05201be870770c76138d7d"
  },
  "kernelspec": {
   "display_name": "Python 3.9.8 64-bit ('venv': venv)",
   "language": "python",
   "name": "python3"
  },
  "language_info": {
   "codemirror_mode": {
    "name": "ipython",
    "version": 3
   },
   "file_extension": ".py",
   "mimetype": "text/x-python",
   "name": "python",
   "nbconvert_exporter": "python",
   "pygments_lexer": "ipython3",
   "version": "3.9.8"
  },
  "orig_nbformat": 4
 },
 "nbformat": 4,
 "nbformat_minor": 2
}
