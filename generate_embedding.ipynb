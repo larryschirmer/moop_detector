{
 "cells": [
  {
   "cell_type": "code",
   "execution_count": 1,
   "metadata": {},
   "outputs": [],
   "source": [
    "import codecs\n",
    "from os import listdir\n",
    "from os.path import join\n",
    "\n",
    "import tensorflow as tf\n",
    "from tensorflow.keras import Sequential\n",
    "from tensorflow.keras.layers import Input, TextVectorization, Embedding, Dense, Flatten\n",
    "from tensorflow.keras.optimizers import Adam\n",
    "from tensorflow.keras.callbacks import EarlyStopping, ModelCheckpoint\n",
    "import keras_tuner as kt\n",
    "\n",
    "import matplotlib.pyplot as plt\n",
    "%matplotlib inline "
   ]
  },
  {
   "cell_type": "code",
   "execution_count": 2,
   "metadata": {},
   "outputs": [],
   "source": [
    "def get_text(file_name): return open(file_name, 'r').read()\n"
   ]
  },
  {
   "cell_type": "code",
   "execution_count": 3,
   "metadata": {},
   "outputs": [],
   "source": [
    "dataset_dir = \"data/aclImdb\"\n",
    "\n",
    "split_names = [\"train\", \"test\"]\n",
    "group_names = [\"pos\", \"neg\"]\n",
    "column_names = [\"text\", \"label\"]\n",
    "\n",
    "datasets = [{\"text\": [], \"label\": []}, {\"text\": [], \"label\": []}]\n",
    "\n",
    "\n",
    "# loop over each dataset\n",
    "for split in split_names:\n",
    "    ds_idx = 0 if split == \"train\" else 1\n",
    "\n",
    "    # loop over each group\n",
    "    for group in group_names:\n",
    "        label = 1 if group == \"pos\" else 0\n",
    "        onlyfiles = [f for f in listdir(join(dataset_dir, split, group))]\n",
    "\n",
    "        # loop over each file in the group\n",
    "        for file_name in onlyfiles:\n",
    "            # extract the text from the file\n",
    "            text = get_text(join(dataset_dir, split, group, file_name))\n",
    "\n",
    "            # add the text and label to the dataframe\n",
    "            datasets[ds_idx][\"text\"].append(text)\n",
    "            datasets[ds_idx][\"label\"].append(label)\n",
    "\n",
    "[ds_train, ds_test] = datasets\n"
   ]
  },
  {
   "cell_type": "code",
   "execution_count": 4,
   "metadata": {},
   "outputs": [],
   "source": [
    "x_train = ds_train[\"text\"]\n",
    "y_train = ds_train[\"label\"]\n",
    "\n",
    "x_test = ds_test[\"text\"]\n",
    "y_test = ds_test[\"label\"]"
   ]
  },
  {
   "cell_type": "code",
   "execution_count": 5,
   "metadata": {},
   "outputs": [],
   "source": [
    "def model_fn(hp):\n",
    "    global vocab\n",
    "    global embedding\n",
    "\n",
    "    hp_maxtokens = hp.Int('max_tokens', min_value=10000,\n",
    "                          max_value=80000, step=10000)\n",
    "    hp_embed = hp.Int('embed', min_value=100, max_value=200, step=50)\n",
    "    hp_maxlen = hp.Int('max_len', min_value=50, max_value=200, step=50)\n",
    "    hp_lr = hp.Float('lr', min_value=0.00001, max_value=0.0001, step=0.00004)\n",
    "\n",
    "    # Create the layer.\n",
    "    vectorize_layer = tf.keras.layers.TextVectorization(\n",
    "    max_tokens=hp_maxtokens,\n",
    "    output_mode='int',\n",
    "    output_sequence_length=hp_maxlen)\n",
    "\n",
    "    vectorize_layer.adapt([*x_train, *x_test])\n",
    "    vocab = vectorize_layer.get_vocabulary()\n",
    "    vocab_len = len(vocab)\n",
    "\n",
    "    embedding = Embedding(vocab_len, hp_embed)\n",
    "\n",
    "    model = Sequential()\n",
    "    model.add(Input(shape=(1,), dtype=tf.string))\n",
    "    model.add(vectorize_layer)\n",
    "    model.add(embedding)\n",
    "    model.add(Flatten())\n",
    "    model.add(Dense(1, activation=\"sigmoid\"))\n",
    "    model.compile(loss='binary_crossentropy', optimizer=Adam(\n",
    "        learning_rate=hp_lr), metrics=['acc'])\n",
    "\n",
    "    return model\n"
   ]
  },
  {
   "cell_type": "code",
   "execution_count": 6,
   "metadata": {},
   "outputs": [
    {
     "name": "stderr",
     "output_type": "stream",
     "text": [
      "2021-11-11 20:01:51.113948: I tensorflow/stream_executor/cuda/cuda_gpu_executor.cc:939] successful NUMA node read from SysFS had negative value (-1), but there must be at least one NUMA node, so returning NUMA node zero\n",
      "2021-11-11 20:01:51.120175: I tensorflow/stream_executor/cuda/cuda_gpu_executor.cc:939] successful NUMA node read from SysFS had negative value (-1), but there must be at least one NUMA node, so returning NUMA node zero\n",
      "2021-11-11 20:01:51.120709: I tensorflow/stream_executor/cuda/cuda_gpu_executor.cc:939] successful NUMA node read from SysFS had negative value (-1), but there must be at least one NUMA node, so returning NUMA node zero\n",
      "2021-11-11 20:01:51.121684: I tensorflow/core/platform/cpu_feature_guard.cc:151] This TensorFlow binary is optimized with oneAPI Deep Neural Network Library (oneDNN) to use the following CPU instructions in performance-critical operations:  AVX2 FMA\n",
      "To enable them in other operations, rebuild TensorFlow with the appropriate compiler flags.\n",
      "2021-11-11 20:01:51.122584: I tensorflow/stream_executor/cuda/cuda_gpu_executor.cc:939] successful NUMA node read from SysFS had negative value (-1), but there must be at least one NUMA node, so returning NUMA node zero\n",
      "2021-11-11 20:01:51.123245: I tensorflow/stream_executor/cuda/cuda_gpu_executor.cc:939] successful NUMA node read from SysFS had negative value (-1), but there must be at least one NUMA node, so returning NUMA node zero\n",
      "2021-11-11 20:01:51.123782: I tensorflow/stream_executor/cuda/cuda_gpu_executor.cc:939] successful NUMA node read from SysFS had negative value (-1), but there must be at least one NUMA node, so returning NUMA node zero\n",
      "2021-11-11 20:01:51.727218: I tensorflow/stream_executor/cuda/cuda_gpu_executor.cc:939] successful NUMA node read from SysFS had negative value (-1), but there must be at least one NUMA node, so returning NUMA node zero\n",
      "2021-11-11 20:01:51.727735: I tensorflow/stream_executor/cuda/cuda_gpu_executor.cc:939] successful NUMA node read from SysFS had negative value (-1), but there must be at least one NUMA node, so returning NUMA node zero\n",
      "2021-11-11 20:01:51.728226: I tensorflow/stream_executor/cuda/cuda_gpu_executor.cc:939] successful NUMA node read from SysFS had negative value (-1), but there must be at least one NUMA node, so returning NUMA node zero\n",
      "2021-11-11 20:01:51.728687: I tensorflow/core/common_runtime/gpu/gpu_device.cc:1525] Created device /job:localhost/replica:0/task:0/device:GPU:0 with 21505 MB memory:  -> device: 0, name: NVIDIA GeForce RTX 3090, pci bus id: 0000:2b:00.0, compute capability: 8.6\n"
     ]
    }
   ],
   "source": [
    "tuner = kt.Hyperband(model_fn,\n",
    "                     objective='val_loss',\n",
    "                     max_epochs=100,\n",
    "                     factor=3,\n",
    "                     directory='tuning',\n",
    "                     project_name='sentimate_embedding',\n",
    "                     seed=42)"
   ]
  },
  {
   "cell_type": "code",
   "execution_count": 7,
   "metadata": {},
   "outputs": [
    {
     "name": "stdout",
     "output_type": "stream",
     "text": [
      "Trial 254 Complete [00h 00m 54s]\n",
      "val_loss: 0.34061843156814575\n",
      "\n",
      "Best val_loss So Far: 0.3212394416332245\n",
      "Total elapsed time: 02h 25m 51s\n",
      "INFO:tensorflow:Oracle triggered exit\n",
      "\n",
      "The hyperparameter search is complete.\n",
      "max_tokens 70000\n",
      "embed 150\n",
      "max_len 200\n",
      "lr 9e-05\n",
      "\n"
     ]
    }
   ],
   "source": [
    "stop_early = tf.keras.callbacks.EarlyStopping(monitor='val_loss',  mode='min', patience=3)\n",
    "tuner.search(x_train, y_train, epochs=50, validation_data=(x_test, y_test), callbacks=[stop_early], shuffle=True)\n",
    "\n",
    "# Get the optimal hyperparameters\n",
    "best_hps=tuner.get_best_hyperparameters(num_trials=1)[0]\n",
    "\n",
    "print(f\"\"\"\n",
    "The hyperparameter search is complete.\n",
    "max_tokens {best_hps.get('max_tokens')}\n",
    "embed {best_hps.get('embed')}\n",
    "max_len {best_hps.get('max_len')}\n",
    "lr {best_hps.get('lr')}\n",
    "\"\"\")\n"
   ]
  },
  {
   "cell_type": "code",
   "execution_count": 8,
   "metadata": {},
   "outputs": [
    {
     "name": "stdout",
     "output_type": "stream",
     "text": [
      "\n",
      "Epoch 00001: val_loss improved from inf to 0.67606, saving model to best_model\n"
     ]
    },
    {
     "name": "stderr",
     "output_type": "stream",
     "text": [
      "2021-11-11 22:29:58.272021: W tensorflow/python/util/util.cc:368] Sets are not currently considered sequences, but this may change in the future, so consider avoiding using them.\n"
     ]
    },
    {
     "name": "stdout",
     "output_type": "stream",
     "text": [
      "INFO:tensorflow:Assets written to: best_model/assets\n",
      "\n",
      "Epoch 00002: val_loss improved from 0.67606 to 0.55224, saving model to best_model\n",
      "INFO:tensorflow:Assets written to: best_model/assets\n",
      "\n",
      "Epoch 00003: val_loss improved from 0.55224 to 0.42945, saving model to best_model\n",
      "INFO:tensorflow:Assets written to: best_model/assets\n",
      "\n",
      "Epoch 00004: val_loss improved from 0.42945 to 0.37392, saving model to best_model\n",
      "INFO:tensorflow:Assets written to: best_model/assets\n",
      "\n",
      "Epoch 00005: val_loss improved from 0.37392 to 0.34971, saving model to best_model\n",
      "INFO:tensorflow:Assets written to: best_model/assets\n",
      "\n",
      "Epoch 00006: val_loss improved from 0.34971 to 0.33269, saving model to best_model\n",
      "INFO:tensorflow:Assets written to: best_model/assets\n",
      "\n",
      "Epoch 00007: val_loss improved from 0.33269 to 0.32591, saving model to best_model\n",
      "INFO:tensorflow:Assets written to: best_model/assets\n",
      "\n",
      "Epoch 00008: val_loss did not improve from 0.32591\n",
      "\n",
      "Epoch 00009: val_loss improved from 0.32591 to 0.32395, saving model to best_model\n",
      "INFO:tensorflow:Assets written to: best_model/assets\n",
      "\n",
      "Epoch 00010: val_loss did not improve from 0.32395\n",
      "\n",
      "Epoch 00011: val_loss did not improve from 0.32395\n",
      "\n",
      "Epoch 00012: val_loss did not improve from 0.32395\n",
      "\n",
      "Epoch 00013: val_loss did not improve from 0.32395\n",
      "\n",
      "Epoch 00014: val_loss did not improve from 0.32395\n",
      "Epoch 00014: early stopping\n"
     ]
    }
   ],
   "source": [
    "es = EarlyStopping(monitor='val_loss', mode='min', verbose=1, patience=5)\n",
    "mc = ModelCheckpoint('best_model', monitor='val_loss',\n",
    "                     mode='min', save_best_only=True, verbose=1, save_format='tf')\n",
    "\n",
    "model = tuner.hypermodel.build(best_hps)\n",
    "history = model.fit(x_train, y_train, validation_data=(\n",
    "    x_test, y_test), epochs=100, verbose=0, shuffle=True, callbacks=[es, mc])\n"
   ]
  },
  {
   "cell_type": "code",
   "execution_count": 9,
   "metadata": {},
   "outputs": [
    {
     "name": "stdout",
     "output_type": "stream",
     "text": [
      "Accuracy: 85.93%\n"
     ]
    }
   ],
   "source": [
    "loss, accuracy = model.evaluate(x_test, y_test, verbose=0)\n",
    "print(\"Accuracy: {:.2f}%\".format(accuracy * 100))"
   ]
  },
  {
   "cell_type": "code",
   "execution_count": 10,
   "metadata": {},
   "outputs": [
    {
     "data": {
      "image/png": "[encoded data removed]",
      "text/plain": [
       "<Figure size 432x288 with 1 Axes>"
      ]
     },
     "metadata": {
      "needs_background": "light"
     },
     "output_type": "display_data"
    }
   ],
   "source": [
    "plt.plot(history.history['loss'], label='train')\n",
    "plt.plot(history.history['val_loss'], label='test')\n",
    "plt.legend()\n",
    "plt.show()"
   ]
  },
  {
   "cell_type": "code",
   "execution_count": 11,
   "metadata": {},
   "outputs": [],
   "source": [
    "# listing 3.4 - Deep Learning for Natural Language Processing\n",
    "\n",
    "def save_embedding(outputFile, weights, vocabulary):\n",
    "    rev = {count: word for count, word in enumerate(vocabulary)}\n",
    "    with codecs.open(outputFile, \"w\") as f:\n",
    "        f.write(str(len(vocabulary)) + \" \" + str(weights.shape[1]) + \"\\n\")\n",
    "        for index in sorted(iter(rev.keys())):\n",
    "            word = rev[index]\n",
    "            f.write(word + \" \")\n",
    "            for i in list(range(len(weights[index]))):\n",
    "                f.write(str(weights[index][i]) + \" \")\n",
    "            f.write(\"\\n\")"
   ]
  },
  {
   "cell_type": "code",
   "execution_count": 12,
   "metadata": {},
   "outputs": [],
   "source": [
    "save_embedding(\"embedding_labeled.txt\", embedding.get_weights()[0], vocab)"
   ]
  },
  {
   "cell_type": "code",
   "execution_count": null,
   "metadata": {},
   "outputs": [],
   "source": []
  }
 ],
 "metadata": {
  "interpreter": {
   "hash": "554c77c23bcc03f2a7ddcf738ffc146e6a275a0cbc05201be870770c76138d7d"
  },
  "kernelspec": {
   "display_name": "Python 3 (ipykernel)",
   "language": "python",
   "name": "python3"
  },
  "language_info": {
   "codemirror_mode": {
    "name": "ipython",
    "version": 3
   },
   "file_extension": ".py",
   "mimetype": "text/x-python",
   "name": "python",
   "nbconvert_exporter": "python",
   "pygments_lexer": "ipython3",
   "version": "3.9.8"
  }
 },
 "nbformat": 4,
 "nbformat_minor": 2
}
